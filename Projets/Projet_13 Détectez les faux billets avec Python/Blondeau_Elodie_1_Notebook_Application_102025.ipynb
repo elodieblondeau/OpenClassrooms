{
 "cells": [
  {
   "cell_type": "markdown",
   "id": "71b0f18d-f467-471f-a18f-415a7ed3866f",
   "metadata": {},
   "source": [
    "<div style=\"display: flex; background-color: RGB(255, 255, 240);\" >\n",
    "<h1 style=\"margin: auto; padding: 30px; \">SCRIPT DE DETECTION DE FAUX BILLETS </h1>\n",
    "</div>"
   ]
  },
  {
   "cell_type": "code",
   "execution_count": 2,
   "id": "501ffda1-83d8-46f9-adbb-5c3c5c840b61",
   "metadata": {},
   "outputs": [],
   "source": [
    "#Import des librairies\n",
    "import joblib\n",
    "import pandas as pd\n",
    "import numpy as np"
   ]
  },
  {
   "cell_type": "markdown",
   "id": "6ecfee8d-8d7e-45a9-a845-4c04ad4ff125",
   "metadata": {},
   "source": [
    "<div style=\"border: 1px solid RGB(51,165,182);\" >\n",
    "<h3 style=\"margin: auto; padding: 20px; color: RGB(51,165,182); \">1. CHARGEMENT DES OUTILS ET MODÈLES</h3>\n",
    "</div>"
   ]
  },
  {
   "cell_type": "code",
   "execution_count": 5,
   "id": "7f6cd106-ee40-4ee6-b68f-abc66a008cd5",
   "metadata": {},
   "outputs": [],
   "source": [
    "# Charger le modèle et le scaler sauvegardés\n",
    "modele_rf_charge = joblib.load('modele_random_forest_final.joblib')\n",
    "scaler_charge = joblib.load('scaler_standard.joblib')"
   ]
  },
  {
   "cell_type": "code",
   "execution_count": 6,
   "id": "38663642-0548-45f3-8f2e-8f8829ed896a",
   "metadata": {},
   "outputs": [],
   "source": [
    "# Définir l'ordre des caractéristiques pour le modèle\n",
    "FEATURES = ['diagonal', 'height_left', 'height_right', 'margin_low', 'margin_up', 'length']"
   ]
  },
  {
   "cell_type": "markdown",
   "id": "06c33a9d-0e1d-455b-93e2-4d4b80dbedab",
   "metadata": {},
   "source": [
    "<div style=\"border: 1px solid RGB(51,165,182);\" >\n",
    "<h3 style=\"margin: auto; padding: 20px; color: RGB(51,165,182); \">2. FONCTION DE PRÉDICTION</h3>\n",
    "</div>"
   ]
  },
  {
   "cell_type": "code",
   "execution_count": 10,
   "id": "a307f192-38d6-4e09-997c-3821973078c3",
   "metadata": {},
   "outputs": [],
   "source": [
    "def tester_avec_csv(chemin_fichier_test):\n",
    "    \"\"\"\n",
    "    Charge un fichier CSV de données brutes, applique le même nettoyage (suppression des NaN) \n",
    "    que pour l'entraînement, et fait la prédiction.\n",
    "    \"\"\"\n",
    "    print(f\"Chargement et nettoyage des données depuis : {chemin_fichier_test}\")\n",
    "    \n",
    "    # 1. Charger le CSV (df_raw est le dataframe brut, y compris les NaN si présents)\n",
    "    try:\n",
    "        df_raw = pd.read_csv(chemin_fichier_test)\n",
    "    except FileNotFoundError:\n",
    "        print(f\"Erreur : Le fichier {chemin_fichier_test} n'a pas été trouvé. Veuillez vérifier le chemin.\")\n",
    "        return None\n",
    "\n",
    "    # S'assurer que le DataFrame contient bien les 6 colonnes\n",
    "    if not all(feature in df_raw.columns for feature in FEATURES):\n",
    "        print(\"Erreur : Le fichier CSV ne contient pas toutes les colonnes requises.\")\n",
    "        return None\n",
    "    \n",
    "    # ÉTAPE CRUCIALE : REPRODUCTION DU NETTOYAGE\n",
    "    lignes_avant = len(df_raw)\n",
    "    \n",
    "    # df_clean_pour_pred est le DataFrame PROPRE utilisé pour toutes les étapes suivantes\n",
    "    df_clean_pour_pred = df_raw.dropna(subset=FEATURES).copy()\n",
    "    lignes_apres = len(df_clean_pour_pred)\n",
    "    \n",
    "    if lignes_avant != lignes_apres:\n",
    "        print(f\"INFO: {lignes_avant - lignes_apres} lignes avec des valeurs manquantes ont été supprimées.\")\n",
    "    \n",
    "    if df_clean_pour_pred.empty:\n",
    "        print(\"Erreur : Après nettoyage, le fichier ne contient plus de lignes valides pour la prédiction.\")\n",
    "        return None\n",
    "    \n",
    "    # Isoler les données à prédire, en garantissant l'ordre\n",
    "    X_pred = df_clean_pour_pred[FEATURES]\n",
    "    \n",
    "    # 2. Mise à l'échelle des données de test\n",
    "    X_pred_array = scaler_charge.transform(X_pred)\n",
    "    \n",
    "    # Reconvertir en DataFrame AVEC les noms de colonnes (pour éviter les UserWarnings)\n",
    "    X_pred_scaled_df = pd.DataFrame(X_pred_array, columns=FEATURES)\n",
    "\n",
    "    # 3. Prédiction\n",
    "    predictions = modele_rf_charge.predict(X_pred_scaled_df) \n",
    "    probabilities = modele_rf_charge.predict_proba(X_pred_scaled_df)\n",
    "    \n",
    "    # 4. Intégrer les résultats au DataFrame nettoyé\n",
    "    df_clean_pour_pred['Prediction'] = predictions\n",
    "    df_clean_pour_pred['Probabilite_Faux (%)'] = probabilities[:, 1] * 100\n",
    "    df_clean_pour_pred['Resultat'] = np.where(predictions == 1, 'FAUX', 'VRAI') \n",
    "\n",
    "    return df_clean_pour_pred\n"
   ]
  },
  {
   "cell_type": "markdown",
   "id": "08f6519b-c1e8-429f-84d8-92bd0d9c4fc7",
   "metadata": {},
   "source": [
    "<div style=\"border: 1px solid RGB(51,165,182);\" >\n",
    "<h3 style=\"margin: auto; padding: 20px; color: RGB(51,165,182); \">3. EXECUTION DE LA PREDICTION</h3>\n",
    "</div>"
   ]
  },
  {
   "cell_type": "code",
   "execution_count": 38,
   "id": "79a5fbc2-047f-4d60-b0a9-27dd8850483b",
   "metadata": {},
   "outputs": [
    {
     "name": "stdout",
     "output_type": "stream",
     "text": [
      "Chargement et nettoyage des données depuis : df_clean.csv\n",
      "\n",
      "--- RÉSULTATS DE LA CLASSIFICATION ---\n",
      "| is_genuine   |   diagonal |   height_left |   height_right |   margin_low |   margin_up |   length | is_genuine_str   |   Prediction |   Probabilite_Faux (%) | Resultat   |\n",
      "|:-------------|-----------:|--------------:|---------------:|-------------:|------------:|---------:|:-----------------|-------------:|-----------------------:|:-----------|\n",
      "| True         |     171.81 |        104.86 |         104.95 |         4.52 |        2.89 |   112.83 | Vrai             |            0 |                      9 | VRAI       |\n",
      "| True         |     171.46 |        103.36 |         103.66 |         3.77 |        2.99 |   113.09 | Vrai             |            0 |                      1 | VRAI       |\n",
      "| True         |     172.69 |        104.48 |         103.5  |         4.4  |        2.94 |   113.16 | Vrai             |            0 |                      0 | VRAI       |\n",
      "| True         |     171.36 |        103.91 |         103.94 |         3.62 |        3.01 |   113.51 | Vrai             |            0 |                      0 | VRAI       |\n",
      "| True         |     171.73 |        104.28 |         103.46 |         4.04 |        3.48 |   112.54 | Vrai             |            0 |                     35 | VRAI       |\n",
      "\n",
      "--- SYNTHÈSE DES PRÉDICTIONS ---\n",
      "| Resultat   |   count |\n",
      "|:-----------|--------:|\n",
      "| VRAI       |     974 |\n",
      "| FAUX       |     489 |\n"
     ]
    },
    {
     "name": "stderr",
     "output_type": "stream",
     "text": [
      "C:\\Users\\elodi\\anaconda3\\Lib\\site-packages\\sklearn\\base.py:486: UserWarning: X has feature names, but RandomForestClassifier was fitted without feature names\n",
      "  warnings.warn(\n",
      "C:\\Users\\elodi\\anaconda3\\Lib\\site-packages\\sklearn\\base.py:486: UserWarning: X has feature names, but RandomForestClassifier was fitted without feature names\n",
      "  warnings.warn(\n"
     ]
    }
   ],
   "source": [
    "chemin_du_csv_a_tester = 'df_clean.csv' \n",
    "\n",
    "# L'exécution de la fonction crée le DataFrame des résultats\n",
    "resultats_df = tester_avec_csv(chemin_du_csv_a_tester)\n",
    "\n",
    "if resultats_df is not None:\n",
    "    print(\"\\n--- RÉSULTATS DE LA CLASSIFICATION ---\")\n",
    "    # Afficher les 5 premières lignes du tableau complet\n",
    "    print(resultats_df.head().to_markdown(index=False)) \n",
    "    \n",
    "    print(\"\\n--- SYNTHÈSE DES PRÉDICTIONS ---\")\n",
    "    # Afficher le nombre total de 'VRAI' et de 'FAUX' prédits\n",
    "    prediction_counts = resultats_df['Resultat'].value_counts()\n",
    "    print(prediction_counts.to_markdown())"
   ]
  },
  {
   "cell_type": "code",
   "execution_count": 40,
   "id": "18de02a4-b60a-48a1-bcf0-cd0846e251a0",
   "metadata": {},
   "outputs": [
    {
     "name": "stdout",
     "output_type": "stream",
     "text": [
      "\n",
      "✅ EXPORT RÉUSSI : Les résultats complets ont été sauvegardés dans le fichier : resultats_classification_complets.xlsx\n"
     ]
    }
   ],
   "source": [
    "if resultats_df is not None:\n",
    "    # ----------------------------------------------------\n",
    "    # NOUVEAU : Export du DataFrame complet dans un fichier Excel\n",
    "    # ----------------------------------------------------\n",
    "    nom_fichier_export_excel = 'resultats_classification_complets.xlsx'\n",
    "    \n",
    "    # Exporte le DataFrame dans un fichier Excel\n",
    "    resultats_df.to_excel(nom_fichier_export_excel, index=False)\n",
    "    \n",
    "    print(f\"\\n✅ EXPORT RÉUSSI : Les résultats complets ont été sauvegardés dans le fichier : {nom_fichier_export_excel}\")"
   ]
  },
  {
   "cell_type": "code",
   "execution_count": 44,
   "id": "9d8960c9-a650-4908-a683-c220a28f0d4d",
   "metadata": {},
   "outputs": [
    {
     "name": "stdout",
     "output_type": "stream",
     "text": [
      "      is_genuine  diagonal  height_left  height_right  margin_low  margin_up  length is_genuine_str  Prediction  Probabilite_Faux (%) Resultat\n",
      "0           True    171.81       104.86        104.95        4.52       2.89  112.83           Vrai           0                   9.0     VRAI\n",
      "1           True    171.46       103.36        103.66        3.77       2.99  113.09           Vrai           0                   1.0     VRAI\n",
      "2           True    172.69       104.48        103.50        4.40       2.94  113.16           Vrai           0                   0.0     VRAI\n",
      "3           True    171.36       103.91        103.94        3.62       3.01  113.51           Vrai           0                   0.0     VRAI\n",
      "4           True    171.73       104.28        103.46        4.04       3.48  112.54           Vrai           0                  35.0     VRAI\n",
      "...          ...       ...          ...           ...         ...        ...     ...            ...         ...                   ...      ...\n",
      "1458       False    171.75       104.38        104.17        4.42       3.09  111.28           Faux           1                  96.0     FAUX\n",
      "1459       False    172.19       104.63        104.44        5.27       3.37  110.97           Faux           1                 100.0     FAUX\n",
      "1460       False    171.80       104.01        104.12        5.51       3.36  111.95           Faux           1                 100.0     FAUX\n",
      "1461       False    172.06       104.28        104.06        5.17       3.46  112.25           Faux           1                 100.0     FAUX\n",
      "1462       False    171.47       104.15        103.82        4.63       3.37  112.07           Faux           1                  92.0     FAUX\n",
      "\n",
      "[1463 rows x 11 columns]\n"
     ]
    }
   ],
   "source": [
    "print (resultats_df)"
   ]
  },
  {
   "cell_type": "code",
   "execution_count": null,
   "id": "243bc313-456b-44f2-84fe-e0d278d387a1",
   "metadata": {},
   "outputs": [],
   "source": []
  }
 ],
 "metadata": {
  "kernelspec": {
   "display_name": "Python 3 (ipykernel)",
   "language": "python",
   "name": "python3"
  },
  "language_info": {
   "codemirror_mode": {
    "name": "ipython",
    "version": 3
   },
   "file_extension": ".py",
   "mimetype": "text/x-python",
   "name": "python",
   "nbconvert_exporter": "python",
   "pygments_lexer": "ipython3",
   "version": "3.12.4"
  }
 },
 "nbformat": 4,
 "nbformat_minor": 5
}
